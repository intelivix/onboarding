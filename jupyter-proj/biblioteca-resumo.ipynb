{
 "cells": [
  {
   "cell_type": "code",
   "execution_count": 1,
   "metadata": {
    "ExecuteTime": {
     "end_time": "2019-02-22T17:29:45.980356Z",
     "start_time": "2019-02-22T17:29:45.974558Z"
    }
   },
   "outputs": [],
   "source": [
    "import ipywidgets"
   ]
  },
  {
   "cell_type": "code",
   "execution_count": 2,
   "metadata": {
    "ExecuteTime": {
     "end_time": "2019-02-22T17:29:47.189334Z",
     "start_time": "2019-02-22T17:29:47.166057Z"
    }
   },
   "outputs": [
    {
     "data": {
      "text/plain": [
       "'7.4.2'"
      ]
     },
     "execution_count": 2,
     "metadata": {},
     "output_type": "execute_result"
    }
   ],
   "source": [
    "ipywidgets.__version__"
   ]
  },
  {
   "cell_type": "code",
   "execution_count": 3,
   "metadata": {
    "ExecuteTime": {
     "end_time": "2019-02-22T17:29:52.165723Z",
     "start_time": "2019-02-22T17:29:52.162131Z"
    }
   },
   "outputs": [],
   "source": [
    "a = 10"
   ]
  },
  {
   "cell_type": "code",
   "execution_count": 8,
   "metadata": {},
   "outputs": [],
   "source": [
    "import pandas"
   ]
  },
  {
   "cell_type": "code",
   "execution_count": 9,
   "metadata": {},
   "outputs": [
    {
     "data": {
      "text/plain": [
       "'0.24.1'"
      ]
     },
     "execution_count": 9,
     "metadata": {},
     "output_type": "execute_result"
    }
   ],
   "source": [
    "pandas.__version__"
   ]
  },
  {
   "cell_type": "code",
   "execution_count": 10,
   "metadata": {},
   "outputs": [],
   "source": [
    "import numpy"
   ]
  },
  {
   "cell_type": "code",
   "execution_count": 11,
   "metadata": {},
   "outputs": [
    {
     "data": {
      "text/plain": [
       "'1.16.1'"
      ]
     },
     "execution_count": 11,
     "metadata": {},
     "output_type": "execute_result"
    }
   ],
   "source": [
    "numpy.__version__"
   ]
  },
  {
   "cell_type": "code",
   "execution_count": 1,
   "metadata": {
    "ExecuteTime": {
     "end_time": "2019-02-22T17:37:59.257416Z",
     "start_time": "2019-02-22T17:37:59.245089Z"
    }
   },
   "outputs": [
    {
     "name": "stderr",
     "output_type": "stream",
     "text": [
      "2019-02-22 14:37:59,249 | DEBUG : This message should go to the log file and to the console\n",
      "2019-02-22 14:37:59,251 | INFO : So should this\n",
      "2019-02-22 14:37:59,253 | WARNING : And this, too\n"
     ]
    }
   ],
   "source": [
    "import logging\n",
    "\n",
    "logging.basicConfig(level=logging.DEBUG,\n",
    "                    format='%(asctime)s | %(levelname)s : %(message)s',\n",
    "                    handlers=[logging.FileHandler(\"example.log\"),\n",
    "                              logging.StreamHandler()])\n",
    "logging.debug('This message should go to the log file and to the console')\n",
    "logging.info('So should this')\n",
    "logging.warning('And this, too')"
   ]
  },
  {
   "cell_type": "code",
   "execution_count": 13,
   "metadata": {},
   "outputs": [
    {
     "data": {
      "application/vnd.jupyter.widget-view+json": {
       "model_id": "d5bff4d0c1fc4481a3edf3471e1d8ede",
       "version_major": 2,
       "version_minor": 0
      },
      "text/plain": [
       "FloatProgress(value=0.0)"
      ]
     },
     "metadata": {},
     "output_type": "display_data"
    }
   ],
   "source": [
    "from ipywidgets import FloatProgress\n",
    "from IPython.display import display\n",
    "f = FloatProgress(min=0, max=100)\n",
    "display(f)\n",
    "f.value += 1"
   ]
  },
  {
   "cell_type": "code",
   "execution_count": 15,
   "metadata": {},
   "outputs": [],
   "source": [
    "f.value += 40"
   ]
  },
  {
   "cell_type": "code",
   "execution_count": 6,
   "metadata": {
    "ExecuteTime": {
     "end_time": "2019-02-27T17:26:23.727451Z",
     "start_time": "2019-02-27T17:26:22.285117Z"
    }
   },
   "outputs": [
    {
     "name": "stderr",
     "output_type": "stream",
     "text": [
      "my bar!: 100%|██████████| 6/6 [00:00<00:00, 108.19it/s]\n"
     ]
    },
    {
     "data": {
      "text/html": [
       "<div>\n",
       "<style scoped>\n",
       "    .dataframe tbody tr th:only-of-type {\n",
       "        vertical-align: middle;\n",
       "    }\n",
       "\n",
       "    .dataframe tbody tr th {\n",
       "        vertical-align: top;\n",
       "    }\n",
       "\n",
       "    .dataframe thead th {\n",
       "        text-align: right;\n",
       "    }\n",
       "</style>\n",
       "<table border=\"1\" class=\"dataframe\">\n",
       "  <thead>\n",
       "    <tr style=\"text-align: right;\">\n",
       "      <th></th>\n",
       "      <th>0</th>\n",
       "      <th>1</th>\n",
       "      <th>2</th>\n",
       "      <th>3</th>\n",
       "      <th>4</th>\n",
       "      <th>5</th>\n",
       "    </tr>\n",
       "  </thead>\n",
       "  <tbody>\n",
       "    <tr>\n",
       "      <th>0</th>\n",
       "      <td>1089</td>\n",
       "      <td>2916</td>\n",
       "      <td>225</td>\n",
       "      <td>900</td>\n",
       "      <td>2116</td>\n",
       "      <td>841</td>\n",
       "    </tr>\n",
       "    <tr>\n",
       "      <th>1</th>\n",
       "      <td>2116</td>\n",
       "      <td>4225</td>\n",
       "      <td>5329</td>\n",
       "      <td>6241</td>\n",
       "      <td>5776</td>\n",
       "      <td>2601</td>\n",
       "    </tr>\n",
       "    <tr>\n",
       "      <th>2</th>\n",
       "      <td>2601</td>\n",
       "      <td>529</td>\n",
       "      <td>3025</td>\n",
       "      <td>2116</td>\n",
       "      <td>8100</td>\n",
       "      <td>3844</td>\n",
       "    </tr>\n",
       "    <tr>\n",
       "      <th>3</th>\n",
       "      <td>1369</td>\n",
       "      <td>6241</td>\n",
       "      <td>484</td>\n",
       "      <td>7396</td>\n",
       "      <td>225</td>\n",
       "      <td>900</td>\n",
       "    </tr>\n",
       "    <tr>\n",
       "      <th>4</th>\n",
       "      <td>4489</td>\n",
       "      <td>196</td>\n",
       "      <td>1296</td>\n",
       "      <td>441</td>\n",
       "      <td>81</td>\n",
       "      <td>1936</td>\n",
       "    </tr>\n",
       "    <tr>\n",
       "      <th>5</th>\n",
       "      <td>121</td>\n",
       "      <td>5625</td>\n",
       "      <td>324</td>\n",
       "      <td>3600</td>\n",
       "      <td>4900</td>\n",
       "      <td>6724</td>\n",
       "    </tr>\n",
       "    <tr>\n",
       "      <th>6</th>\n",
       "      <td>2025</td>\n",
       "      <td>7744</td>\n",
       "      <td>9801</td>\n",
       "      <td>3136</td>\n",
       "      <td>400</td>\n",
       "      <td>7396</td>\n",
       "    </tr>\n",
       "    <tr>\n",
       "      <th>7</th>\n",
       "      <td>289</td>\n",
       "      <td>144</td>\n",
       "      <td>324</td>\n",
       "      <td>144</td>\n",
       "      <td>361</td>\n",
       "      <td>2025</td>\n",
       "    </tr>\n",
       "    <tr>\n",
       "      <th>8</th>\n",
       "      <td>4624</td>\n",
       "      <td>4900</td>\n",
       "      <td>3364</td>\n",
       "      <td>9</td>\n",
       "      <td>8281</td>\n",
       "      <td>1156</td>\n",
       "    </tr>\n",
       "    <tr>\n",
       "      <th>9</th>\n",
       "      <td>5184</td>\n",
       "      <td>676</td>\n",
       "      <td>4225</td>\n",
       "      <td>1024</td>\n",
       "      <td>9216</td>\n",
       "      <td>3969</td>\n",
       "    </tr>\n",
       "    <tr>\n",
       "      <th>10</th>\n",
       "      <td>9409</td>\n",
       "      <td>3481</td>\n",
       "      <td>6084</td>\n",
       "      <td>8464</td>\n",
       "      <td>4900</td>\n",
       "      <td>9</td>\n",
       "    </tr>\n",
       "    <tr>\n",
       "      <th>11</th>\n",
       "      <td>25</td>\n",
       "      <td>4</td>\n",
       "      <td>7056</td>\n",
       "      <td>400</td>\n",
       "      <td>36</td>\n",
       "      <td>9216</td>\n",
       "    </tr>\n",
       "    <tr>\n",
       "      <th>12</th>\n",
       "      <td>729</td>\n",
       "      <td>1089</td>\n",
       "      <td>7921</td>\n",
       "      <td>144</td>\n",
       "      <td>3136</td>\n",
       "      <td>900</td>\n",
       "    </tr>\n",
       "    <tr>\n",
       "      <th>13</th>\n",
       "      <td>2025</td>\n",
       "      <td>4489</td>\n",
       "      <td>5625</td>\n",
       "      <td>7921</td>\n",
       "      <td>784</td>\n",
       "      <td>196</td>\n",
       "    </tr>\n",
       "    <tr>\n",
       "      <th>14</th>\n",
       "      <td>9025</td>\n",
       "      <td>8464</td>\n",
       "      <td>25</td>\n",
       "      <td>8464</td>\n",
       "      <td>3600</td>\n",
       "      <td>81</td>\n",
       "    </tr>\n",
       "    <tr>\n",
       "      <th>15</th>\n",
       "      <td>1521</td>\n",
       "      <td>4900</td>\n",
       "      <td>3136</td>\n",
       "      <td>1521</td>\n",
       "      <td>7744</td>\n",
       "      <td>2401</td>\n",
       "    </tr>\n",
       "    <tr>\n",
       "      <th>16</th>\n",
       "      <td>3364</td>\n",
       "      <td>3025</td>\n",
       "      <td>1849</td>\n",
       "      <td>8100</td>\n",
       "      <td>400</td>\n",
       "      <td>256</td>\n",
       "    </tr>\n",
       "    <tr>\n",
       "      <th>17</th>\n",
       "      <td>256</td>\n",
       "      <td>9216</td>\n",
       "      <td>729</td>\n",
       "      <td>6561</td>\n",
       "      <td>4</td>\n",
       "      <td>9216</td>\n",
       "    </tr>\n",
       "    <tr>\n",
       "      <th>18</th>\n",
       "      <td>5476</td>\n",
       "      <td>1156</td>\n",
       "      <td>5184</td>\n",
       "      <td>9801</td>\n",
       "      <td>900</td>\n",
       "      <td>5625</td>\n",
       "    </tr>\n",
       "    <tr>\n",
       "      <th>19</th>\n",
       "      <td>8836</td>\n",
       "      <td>8836</td>\n",
       "      <td>4</td>\n",
       "      <td>3844</td>\n",
       "      <td>36</td>\n",
       "      <td>1</td>\n",
       "    </tr>\n",
       "    <tr>\n",
       "      <th>20</th>\n",
       "      <td>6724</td>\n",
       "      <td>5476</td>\n",
       "      <td>1764</td>\n",
       "      <td>256</td>\n",
       "      <td>1024</td>\n",
       "      <td>6241</td>\n",
       "    </tr>\n",
       "    <tr>\n",
       "      <th>21</th>\n",
       "      <td>2500</td>\n",
       "      <td>36</td>\n",
       "      <td>49</td>\n",
       "      <td>4761</td>\n",
       "      <td>729</td>\n",
       "      <td>6889</td>\n",
       "    </tr>\n",
       "    <tr>\n",
       "      <th>22</th>\n",
       "      <td>7225</td>\n",
       "      <td>3364</td>\n",
       "      <td>676</td>\n",
       "      <td>6084</td>\n",
       "      <td>4489</td>\n",
       "      <td>3481</td>\n",
       "    </tr>\n",
       "    <tr>\n",
       "      <th>23</th>\n",
       "      <td>7396</td>\n",
       "      <td>1764</td>\n",
       "      <td>169</td>\n",
       "      <td>784</td>\n",
       "      <td>625</td>\n",
       "      <td>3600</td>\n",
       "    </tr>\n",
       "    <tr>\n",
       "      <th>24</th>\n",
       "      <td>8100</td>\n",
       "      <td>2601</td>\n",
       "      <td>5184</td>\n",
       "      <td>5329</td>\n",
       "      <td>289</td>\n",
       "      <td>2500</td>\n",
       "    </tr>\n",
       "    <tr>\n",
       "      <th>25</th>\n",
       "      <td>8649</td>\n",
       "      <td>4761</td>\n",
       "      <td>2500</td>\n",
       "      <td>4</td>\n",
       "      <td>9</td>\n",
       "      <td>225</td>\n",
       "    </tr>\n",
       "    <tr>\n",
       "      <th>26</th>\n",
       "      <td>4225</td>\n",
       "      <td>2916</td>\n",
       "      <td>3600</td>\n",
       "      <td>5625</td>\n",
       "      <td>8100</td>\n",
       "      <td>900</td>\n",
       "    </tr>\n",
       "    <tr>\n",
       "      <th>27</th>\n",
       "      <td>100</td>\n",
       "      <td>6889</td>\n",
       "      <td>3481</td>\n",
       "      <td>6241</td>\n",
       "      <td>6724</td>\n",
       "      <td>1444</td>\n",
       "    </tr>\n",
       "    <tr>\n",
       "      <th>28</th>\n",
       "      <td>289</td>\n",
       "      <td>5041</td>\n",
       "      <td>9801</td>\n",
       "      <td>8100</td>\n",
       "      <td>0</td>\n",
       "      <td>4489</td>\n",
       "    </tr>\n",
       "    <tr>\n",
       "      <th>29</th>\n",
       "      <td>784</td>\n",
       "      <td>676</td>\n",
       "      <td>8100</td>\n",
       "      <td>5041</td>\n",
       "      <td>196</td>\n",
       "      <td>2401</td>\n",
       "    </tr>\n",
       "    <tr>\n",
       "      <th>...</th>\n",
       "      <td>...</td>\n",
       "      <td>...</td>\n",
       "      <td>...</td>\n",
       "      <td>...</td>\n",
       "      <td>...</td>\n",
       "      <td>...</td>\n",
       "    </tr>\n",
       "    <tr>\n",
       "      <th>99970</th>\n",
       "      <td>6561</td>\n",
       "      <td>16</td>\n",
       "      <td>2304</td>\n",
       "      <td>8649</td>\n",
       "      <td>4356</td>\n",
       "      <td>81</td>\n",
       "    </tr>\n",
       "    <tr>\n",
       "      <th>99971</th>\n",
       "      <td>7225</td>\n",
       "      <td>4489</td>\n",
       "      <td>625</td>\n",
       "      <td>6889</td>\n",
       "      <td>676</td>\n",
       "      <td>6400</td>\n",
       "    </tr>\n",
       "    <tr>\n",
       "      <th>99972</th>\n",
       "      <td>4225</td>\n",
       "      <td>9604</td>\n",
       "      <td>7396</td>\n",
       "      <td>100</td>\n",
       "      <td>1024</td>\n",
       "      <td>5929</td>\n",
       "    </tr>\n",
       "    <tr>\n",
       "      <th>99973</th>\n",
       "      <td>6724</td>\n",
       "      <td>9801</td>\n",
       "      <td>784</td>\n",
       "      <td>8836</td>\n",
       "      <td>4</td>\n",
       "      <td>2116</td>\n",
       "    </tr>\n",
       "    <tr>\n",
       "      <th>99974</th>\n",
       "      <td>2304</td>\n",
       "      <td>3721</td>\n",
       "      <td>2601</td>\n",
       "      <td>2601</td>\n",
       "      <td>4761</td>\n",
       "      <td>144</td>\n",
       "    </tr>\n",
       "    <tr>\n",
       "      <th>99975</th>\n",
       "      <td>841</td>\n",
       "      <td>7225</td>\n",
       "      <td>2401</td>\n",
       "      <td>9025</td>\n",
       "      <td>4225</td>\n",
       "      <td>1024</td>\n",
       "    </tr>\n",
       "    <tr>\n",
       "      <th>99976</th>\n",
       "      <td>3600</td>\n",
       "      <td>3844</td>\n",
       "      <td>7396</td>\n",
       "      <td>5184</td>\n",
       "      <td>576</td>\n",
       "      <td>1764</td>\n",
       "    </tr>\n",
       "    <tr>\n",
       "      <th>99977</th>\n",
       "      <td>1444</td>\n",
       "      <td>36</td>\n",
       "      <td>4225</td>\n",
       "      <td>1521</td>\n",
       "      <td>324</td>\n",
       "      <td>0</td>\n",
       "    </tr>\n",
       "    <tr>\n",
       "      <th>99978</th>\n",
       "      <td>256</td>\n",
       "      <td>361</td>\n",
       "      <td>3721</td>\n",
       "      <td>5041</td>\n",
       "      <td>1089</td>\n",
       "      <td>25</td>\n",
       "    </tr>\n",
       "    <tr>\n",
       "      <th>99979</th>\n",
       "      <td>1024</td>\n",
       "      <td>9</td>\n",
       "      <td>100</td>\n",
       "      <td>9604</td>\n",
       "      <td>2809</td>\n",
       "      <td>676</td>\n",
       "    </tr>\n",
       "    <tr>\n",
       "      <th>99980</th>\n",
       "      <td>5041</td>\n",
       "      <td>484</td>\n",
       "      <td>1681</td>\n",
       "      <td>16</td>\n",
       "      <td>5476</td>\n",
       "      <td>1936</td>\n",
       "    </tr>\n",
       "    <tr>\n",
       "      <th>99981</th>\n",
       "      <td>1849</td>\n",
       "      <td>3364</td>\n",
       "      <td>2809</td>\n",
       "      <td>5041</td>\n",
       "      <td>484</td>\n",
       "      <td>5776</td>\n",
       "    </tr>\n",
       "    <tr>\n",
       "      <th>99982</th>\n",
       "      <td>6084</td>\n",
       "      <td>8836</td>\n",
       "      <td>5929</td>\n",
       "      <td>5041</td>\n",
       "      <td>2601</td>\n",
       "      <td>9604</td>\n",
       "    </tr>\n",
       "    <tr>\n",
       "      <th>99983</th>\n",
       "      <td>7744</td>\n",
       "      <td>1936</td>\n",
       "      <td>5184</td>\n",
       "      <td>961</td>\n",
       "      <td>8100</td>\n",
       "      <td>529</td>\n",
       "    </tr>\n",
       "    <tr>\n",
       "      <th>99984</th>\n",
       "      <td>1764</td>\n",
       "      <td>8100</td>\n",
       "      <td>8100</td>\n",
       "      <td>7056</td>\n",
       "      <td>3969</td>\n",
       "      <td>7396</td>\n",
       "    </tr>\n",
       "    <tr>\n",
       "      <th>99985</th>\n",
       "      <td>3025</td>\n",
       "      <td>3481</td>\n",
       "      <td>7396</td>\n",
       "      <td>4489</td>\n",
       "      <td>5329</td>\n",
       "      <td>5041</td>\n",
       "    </tr>\n",
       "    <tr>\n",
       "      <th>99986</th>\n",
       "      <td>5776</td>\n",
       "      <td>900</td>\n",
       "      <td>25</td>\n",
       "      <td>4</td>\n",
       "      <td>9604</td>\n",
       "      <td>361</td>\n",
       "    </tr>\n",
       "    <tr>\n",
       "      <th>99987</th>\n",
       "      <td>4096</td>\n",
       "      <td>36</td>\n",
       "      <td>3364</td>\n",
       "      <td>7744</td>\n",
       "      <td>25</td>\n",
       "      <td>2304</td>\n",
       "    </tr>\n",
       "    <tr>\n",
       "      <th>99988</th>\n",
       "      <td>1296</td>\n",
       "      <td>1369</td>\n",
       "      <td>625</td>\n",
       "      <td>3136</td>\n",
       "      <td>3600</td>\n",
       "      <td>7744</td>\n",
       "    </tr>\n",
       "    <tr>\n",
       "      <th>99989</th>\n",
       "      <td>3364</td>\n",
       "      <td>5929</td>\n",
       "      <td>5929</td>\n",
       "      <td>1024</td>\n",
       "      <td>361</td>\n",
       "      <td>121</td>\n",
       "    </tr>\n",
       "    <tr>\n",
       "      <th>99990</th>\n",
       "      <td>100</td>\n",
       "      <td>225</td>\n",
       "      <td>8464</td>\n",
       "      <td>3136</td>\n",
       "      <td>9801</td>\n",
       "      <td>5929</td>\n",
       "    </tr>\n",
       "    <tr>\n",
       "      <th>99991</th>\n",
       "      <td>3249</td>\n",
       "      <td>900</td>\n",
       "      <td>1681</td>\n",
       "      <td>6724</td>\n",
       "      <td>1</td>\n",
       "      <td>7921</td>\n",
       "    </tr>\n",
       "    <tr>\n",
       "      <th>99992</th>\n",
       "      <td>1521</td>\n",
       "      <td>7921</td>\n",
       "      <td>5329</td>\n",
       "      <td>1600</td>\n",
       "      <td>1</td>\n",
       "      <td>6724</td>\n",
       "    </tr>\n",
       "    <tr>\n",
       "      <th>99993</th>\n",
       "      <td>400</td>\n",
       "      <td>9801</td>\n",
       "      <td>3025</td>\n",
       "      <td>8100</td>\n",
       "      <td>576</td>\n",
       "      <td>6561</td>\n",
       "    </tr>\n",
       "    <tr>\n",
       "      <th>99994</th>\n",
       "      <td>441</td>\n",
       "      <td>2500</td>\n",
       "      <td>1681</td>\n",
       "      <td>676</td>\n",
       "      <td>1600</td>\n",
       "      <td>1089</td>\n",
       "    </tr>\n",
       "    <tr>\n",
       "      <th>99995</th>\n",
       "      <td>1024</td>\n",
       "      <td>1369</td>\n",
       "      <td>7744</td>\n",
       "      <td>3600</td>\n",
       "      <td>2304</td>\n",
       "      <td>3969</td>\n",
       "    </tr>\n",
       "    <tr>\n",
       "      <th>99996</th>\n",
       "      <td>2601</td>\n",
       "      <td>5329</td>\n",
       "      <td>484</td>\n",
       "      <td>6724</td>\n",
       "      <td>6241</td>\n",
       "      <td>1849</td>\n",
       "    </tr>\n",
       "    <tr>\n",
       "      <th>99997</th>\n",
       "      <td>7744</td>\n",
       "      <td>121</td>\n",
       "      <td>1444</td>\n",
       "      <td>3481</td>\n",
       "      <td>1849</td>\n",
       "      <td>8100</td>\n",
       "    </tr>\n",
       "    <tr>\n",
       "      <th>99998</th>\n",
       "      <td>1600</td>\n",
       "      <td>3136</td>\n",
       "      <td>3481</td>\n",
       "      <td>1156</td>\n",
       "      <td>529</td>\n",
       "      <td>0</td>\n",
       "    </tr>\n",
       "    <tr>\n",
       "      <th>99999</th>\n",
       "      <td>324</td>\n",
       "      <td>1681</td>\n",
       "      <td>1444</td>\n",
       "      <td>9604</td>\n",
       "      <td>196</td>\n",
       "      <td>121</td>\n",
       "    </tr>\n",
       "  </tbody>\n",
       "</table>\n",
       "<p>100000 rows × 6 columns</p>\n",
       "</div>"
      ],
      "text/plain": [
       "          0     1     2     3     4     5\n",
       "0      1089  2916   225   900  2116   841\n",
       "1      2116  4225  5329  6241  5776  2601\n",
       "2      2601   529  3025  2116  8100  3844\n",
       "3      1369  6241   484  7396   225   900\n",
       "4      4489   196  1296   441    81  1936\n",
       "5       121  5625   324  3600  4900  6724\n",
       "6      2025  7744  9801  3136   400  7396\n",
       "7       289   144   324   144   361  2025\n",
       "8      4624  4900  3364     9  8281  1156\n",
       "9      5184   676  4225  1024  9216  3969\n",
       "10     9409  3481  6084  8464  4900     9\n",
       "11       25     4  7056   400    36  9216\n",
       "12      729  1089  7921   144  3136   900\n",
       "13     2025  4489  5625  7921   784   196\n",
       "14     9025  8464    25  8464  3600    81\n",
       "15     1521  4900  3136  1521  7744  2401\n",
       "16     3364  3025  1849  8100   400   256\n",
       "17      256  9216   729  6561     4  9216\n",
       "18     5476  1156  5184  9801   900  5625\n",
       "19     8836  8836     4  3844    36     1\n",
       "20     6724  5476  1764   256  1024  6241\n",
       "21     2500    36    49  4761   729  6889\n",
       "22     7225  3364   676  6084  4489  3481\n",
       "23     7396  1764   169   784   625  3600\n",
       "24     8100  2601  5184  5329   289  2500\n",
       "25     8649  4761  2500     4     9   225\n",
       "26     4225  2916  3600  5625  8100   900\n",
       "27      100  6889  3481  6241  6724  1444\n",
       "28      289  5041  9801  8100     0  4489\n",
       "29      784   676  8100  5041   196  2401\n",
       "...     ...   ...   ...   ...   ...   ...\n",
       "99970  6561    16  2304  8649  4356    81\n",
       "99971  7225  4489   625  6889   676  6400\n",
       "99972  4225  9604  7396   100  1024  5929\n",
       "99973  6724  9801   784  8836     4  2116\n",
       "99974  2304  3721  2601  2601  4761   144\n",
       "99975   841  7225  2401  9025  4225  1024\n",
       "99976  3600  3844  7396  5184   576  1764\n",
       "99977  1444    36  4225  1521   324     0\n",
       "99978   256   361  3721  5041  1089    25\n",
       "99979  1024     9   100  9604  2809   676\n",
       "99980  5041   484  1681    16  5476  1936\n",
       "99981  1849  3364  2809  5041   484  5776\n",
       "99982  6084  8836  5929  5041  2601  9604\n",
       "99983  7744  1936  5184   961  8100   529\n",
       "99984  1764  8100  8100  7056  3969  7396\n",
       "99985  3025  3481  7396  4489  5329  5041\n",
       "99986  5776   900    25     4  9604   361\n",
       "99987  4096    36  3364  7744    25  2304\n",
       "99988  1296  1369   625  3136  3600  7744\n",
       "99989  3364  5929  5929  1024   361   121\n",
       "99990   100   225  8464  3136  9801  5929\n",
       "99991  3249   900  1681  6724     1  7921\n",
       "99992  1521  7921  5329  1600     1  6724\n",
       "99993   400  9801  3025  8100   576  6561\n",
       "99994   441  2500  1681   676  1600  1089\n",
       "99995  1024  1369  7744  3600  2304  3969\n",
       "99996  2601  5329   484  6724  6241  1849\n",
       "99997  7744   121  1444  3481  1849  8100\n",
       "99998  1600  3136  3481  1156   529     0\n",
       "99999   324  1681  1444  9604   196   121\n",
       "\n",
       "[100000 rows x 6 columns]"
      ]
     },
     "execution_count": 6,
     "metadata": {},
     "output_type": "execute_result"
    }
   ],
   "source": [
    "import pandas as pd\n",
    "import numpy as np\n",
    "from tqdm import tqdm\n",
    "\n",
    "df = pd.DataFrame(np.random.randint(0, 100, (100000, 6)))\n",
    "\n",
    "# Register `pandas.progress_apply` and `pandas.Series.map_apply` with `tqdm`\n",
    "# (can use `tqdm_gui`, `tqdm_notebook`, optional kwargs, etc.)\n",
    "tqdm.pandas(desc=\"my bar!\")\n",
    "\n",
    "# Now you can use `progress_apply` instead of `apply`\n",
    "# and `progress_map` instead of `map`\n",
    "df.progress_apply(lambda x: x**2)\n",
    "# can also groupby:\n",
    "# df.groupby(0).progress_apply(lambda x: x**2)"
   ]
  },
  {
   "cell_type": "code",
   "execution_count": 5,
   "metadata": {
    "ExecuteTime": {
     "end_time": "2019-02-22T17:30:35.030808Z",
     "start_time": "2019-02-22T17:30:31.302922Z"
    }
   },
   "outputs": [
    {
     "data": {
      "application/vnd.jupyter.widget-view+json": {
       "model_id": "80b99b3dd4dc49efa77eb8c5d6bc5b44",
       "version_major": 2,
       "version_minor": 0
      },
      "text/plain": [
       "HBox(children=(IntProgress(value=0, description='1st loop', max=3, style=ProgressStyle(description_width='init…"
      ]
     },
     "metadata": {},
     "output_type": "display_data"
    },
    {
     "data": {
      "application/vnd.jupyter.widget-view+json": {
       "model_id": "d51c404b1282445d9469c7849c51b78f",
       "version_major": 2,
       "version_minor": 0
      },
      "text/plain": [
       "HBox(children=(IntProgress(value=0, description='2nd loop', style=ProgressStyle(description_width='initial')),…"
      ]
     },
     "metadata": {},
     "output_type": "display_data"
    },
    {
     "data": {
      "application/vnd.jupyter.widget-view+json": {
       "model_id": "3e467d2d24af4c81b7b41bedffa5ab9c",
       "version_major": 2,
       "version_minor": 0
      },
      "text/plain": [
       "HBox(children=(IntProgress(value=0, description='2nd loop', style=ProgressStyle(description_width='initial')),…"
      ]
     },
     "metadata": {},
     "output_type": "display_data"
    },
    {
     "data": {
      "application/vnd.jupyter.widget-view+json": {
       "model_id": "923adcee23574529bb5fd7e6c19c4809",
       "version_major": 2,
       "version_minor": 0
      },
      "text/plain": [
       "HBox(children=(IntProgress(value=0, description='2nd loop', style=ProgressStyle(description_width='initial')),…"
      ]
     },
     "metadata": {},
     "output_type": "display_data"
    },
    {
     "name": "stdout",
     "output_type": "stream",
     "text": [
      "\n"
     ]
    }
   ],
   "source": [
    "from tqdm import tnrange, tqdm_notebook\n",
    "from time import sleep\n",
    "\n",
    "for i in tnrange(3, desc='1st loop'):\n",
    "    for j in tqdm_notebook(range(100), desc='2nd loop'):\n",
    "        sleep(0.01)\n"
   ]
  },
  {
   "cell_type": "markdown",
   "metadata": {},
   "source": [
    "\\begin{equation}\\label{eq_pop_update}\n",
    "v_{t_u}= \n",
    "\\begin{cases}\n",
    "    2v_{t_u-1},& \\text{if } A_{p,t_u}<A_{p,t_u-1}.\\\\\n",
    "    -2\\frac{v_{t_u-1}}{|v_{t_u-1}|}, & \\text{otherwise}.\n",
    "\\end{cases}\n",
    "\\end{equation}"
   ]
  },
  {
   "cell_type": "code",
   "execution_count": 7,
   "metadata": {
    "ExecuteTime": {
     "end_time": "2019-02-27T17:26:36.449958Z",
     "start_time": "2019-02-27T17:26:36.420147Z"
    }
   },
   "outputs": [
    {
     "name": "stderr",
     "output_type": "stream",
     "text": [
      "my bar!: 100%|██████████| 6/6 [00:00<00:00, 364.17it/s]\n"
     ]
    }
   ],
   "source": [
    "from utils import marcelo\n",
    "df['marcelo'] = df.progress_apply(marcelo)"
   ]
  },
  {
   "cell_type": "code",
   "execution_count": 8,
   "metadata": {
    "ExecuteTime": {
     "end_time": "2019-02-27T17:26:51.855310Z",
     "start_time": "2019-02-27T17:26:51.848332Z"
    }
   },
   "outputs": [
    {
     "data": {
      "text/plain": [
       "Index([0, 1, 2, 3, 4, 5, 'marcelo'], dtype='object')"
      ]
     },
     "execution_count": 8,
     "metadata": {},
     "output_type": "execute_result"
    }
   ],
   "source": [
    "df.columns"
   ]
  },
  {
   "cell_type": "code",
   "execution_count": 9,
   "metadata": {
    "ExecuteTime": {
     "end_time": "2019-02-27T17:27:02.245096Z",
     "start_time": "2019-02-27T17:27:02.215167Z"
    }
   },
   "outputs": [
    {
     "data": {
      "text/html": [
       "<div>\n",
       "<style scoped>\n",
       "    .dataframe tbody tr th:only-of-type {\n",
       "        vertical-align: middle;\n",
       "    }\n",
       "\n",
       "    .dataframe tbody tr th {\n",
       "        vertical-align: top;\n",
       "    }\n",
       "\n",
       "    .dataframe thead th {\n",
       "        text-align: right;\n",
       "    }\n",
       "</style>\n",
       "<table border=\"1\" class=\"dataframe\">\n",
       "  <thead>\n",
       "    <tr style=\"text-align: right;\">\n",
       "      <th></th>\n",
       "      <th>0</th>\n",
       "      <th>1</th>\n",
       "      <th>2</th>\n",
       "      <th>3</th>\n",
       "      <th>4</th>\n",
       "      <th>5</th>\n",
       "      <th>marcelo</th>\n",
       "    </tr>\n",
       "  </thead>\n",
       "  <tbody>\n",
       "    <tr>\n",
       "      <th>0</th>\n",
       "      <td>33</td>\n",
       "      <td>54</td>\n",
       "      <td>15</td>\n",
       "      <td>30</td>\n",
       "      <td>46</td>\n",
       "      <td>29</td>\n",
       "      <td>marcelo</td>\n",
       "    </tr>\n",
       "    <tr>\n",
       "      <th>1</th>\n",
       "      <td>46</td>\n",
       "      <td>65</td>\n",
       "      <td>73</td>\n",
       "      <td>79</td>\n",
       "      <td>76</td>\n",
       "      <td>51</td>\n",
       "      <td>marcelo</td>\n",
       "    </tr>\n",
       "    <tr>\n",
       "      <th>2</th>\n",
       "      <td>51</td>\n",
       "      <td>23</td>\n",
       "      <td>55</td>\n",
       "      <td>46</td>\n",
       "      <td>90</td>\n",
       "      <td>62</td>\n",
       "      <td>marcelo</td>\n",
       "    </tr>\n",
       "    <tr>\n",
       "      <th>3</th>\n",
       "      <td>37</td>\n",
       "      <td>79</td>\n",
       "      <td>22</td>\n",
       "      <td>86</td>\n",
       "      <td>15</td>\n",
       "      <td>30</td>\n",
       "      <td>marcelo</td>\n",
       "    </tr>\n",
       "    <tr>\n",
       "      <th>4</th>\n",
       "      <td>67</td>\n",
       "      <td>14</td>\n",
       "      <td>36</td>\n",
       "      <td>21</td>\n",
       "      <td>9</td>\n",
       "      <td>44</td>\n",
       "      <td>marcelo</td>\n",
       "    </tr>\n",
       "  </tbody>\n",
       "</table>\n",
       "</div>"
      ],
      "text/plain": [
       "    0   1   2   3   4   5  marcelo\n",
       "0  33  54  15  30  46  29  marcelo\n",
       "1  46  65  73  79  76  51  marcelo\n",
       "2  51  23  55  46  90  62  marcelo\n",
       "3  37  79  22  86  15  30  marcelo\n",
       "4  67  14  36  21   9  44  marcelo"
      ]
     },
     "execution_count": 9,
     "metadata": {},
     "output_type": "execute_result"
    }
   ],
   "source": [
    "df.head()"
   ]
  }
 ],
 "metadata": {
  "kernelspec": {
   "display_name": "VENV",
   "language": "python",
   "name": "jupyter-proj-nrec-0gs"
  },
  "notify_time": "0",
  "varInspector": {
   "cols": {
    "lenName": 16,
    "lenType": 16,
    "lenVar": 40
   },
   "kernels_config": {
    "python": {
     "delete_cmd_postfix": "",
     "delete_cmd_prefix": "del ",
     "library": "var_list.py",
     "varRefreshCmd": "print(var_dic_list())"
    },
    "r": {
     "delete_cmd_postfix": ") ",
     "delete_cmd_prefix": "rm(",
     "library": "var_list.r",
     "varRefreshCmd": "cat(var_dic_list()) "
    }
   },
   "types_to_exclude": [
    "module",
    "function",
    "builtin_function_or_method",
    "instance",
    "_Feature"
   ],
   "window_display": false
  }
 },
 "nbformat": 4,
 "nbformat_minor": 2
}
